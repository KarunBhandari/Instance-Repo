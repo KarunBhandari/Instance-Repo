{
 "cells": [
  {
   "cell_type": "code",
   "execution_count": null,
   "metadata": {},
   "outputs": [],
   "source": [
    "#hello this is Karun\n",
    "#this is single line comment\n",
    "print(\"Hello World!\")\n",
    "print(\"2+2\")\n",
    "\"\"\"\n",
    "Line after this multi-line comment are for\n",
    "new branch change. Tough characters are less than 80 characters, line is terminating here\n",
    "\"\"\""
   ]
  }
 ],
 "metadata": {
  "kernelspec": {
   "display_name": "Python 3",
   "language": "python",
   "name": "python3"
  },
  "language_info": {
   "name": "python",
   "version": "3.13.1"
  },
  "orig_nbformat": 4
 },
 "nbformat": 4,
 "nbformat_minor": 2
}
